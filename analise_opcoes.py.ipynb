{
 "cells": [
  {
   "cell_type": "code",
   "execution_count": 1,
   "id": "440a27ee-6a27-4d85-866f-dc32322c38a1",
   "metadata": {},
   "outputs": [
    {
     "name": "stdout",
     "output_type": "stream",
     "text": [
      "YF.download() has changed argument auto_adjust default to True\n"
     ]
    },
    {
     "name": "stderr",
     "output_type": "stream",
     "text": [
      "C:\\Users\\igorj\\AppData\\Local\\Temp\\ipykernel_34848\\894554368.py:20: FutureWarning: Calling float on a single element Series is deprecated and will raise a TypeError in the future. Use float(ser.iloc[0]) instead\n",
      "  S = float(data.iloc[-1])\n"
     ]
    },
    {
     "name": "stdout",
     "output_type": "stream",
     "text": [
      "\n",
      "=== Opções CARAS ===\n",
      "    strike  lastPrice  PrecoJusto     Delta  impliedVolatility  \\\n",
      "21   598.0      33.91   30.546716  0.757895           0.207161   \n",
      "\n",
      "             VolStatus  volume  openInterest  \n",
      "21  IV > HV (otimista)     3.0             4  \n",
      "\n",
      "=== Opções BARATAS ===\n",
      "    strike  lastPrice  PrecoJusto     Delta  impliedVolatility  \\\n",
      "43   617.0      13.67   15.295063  0.588525           0.165231   \n",
      "47   620.0      11.83   13.149291  0.550912           0.158303   \n",
      "48   621.0      11.14   12.495876  0.537493           0.156518   \n",
      "49   622.0      10.55   11.900047  0.523723           0.155343   \n",
      "50   623.0      10.00   11.305447  0.509729           0.154000   \n",
      "51   624.0       9.58   10.668756  0.495388           0.151894   \n",
      "52   625.0       8.94   10.090996  0.480827           0.150399   \n",
      "54   627.0       7.78    8.972960  0.450954           0.147317   \n",
      "55   628.0       7.44    8.402583  0.435416           0.145303   \n",
      "57   630.0       6.47    7.413039  0.404552           0.142709   \n",
      "59   632.0       5.55    6.545048  0.374069           0.140939   \n",
      "61   634.0       4.85    5.694255  0.342911           0.138497   \n",
      "62   635.0       4.49    5.253142  0.326556           0.136666   \n",
      "63   640.0       2.95    3.604684  0.252718           0.132272   \n",
      "64   645.0       1.87    2.309244  0.184133           0.127328   \n",
      "65   650.0       1.14    1.475630  0.130259           0.125070   \n",
      "\n",
      "             VolStatus  volume  openInterest  \n",
      "43  IV > HV (otimista)     3.0           343  \n",
      "47  IV > HV (otimista)   921.0          1095  \n",
      "48  IV > HV (otimista)   794.0           112  \n",
      "49  IV > HV (otimista)   263.0           255  \n",
      "50  IV > HV (otimista)   111.0           243  \n",
      "51  IV > HV (otimista)   222.0           207  \n",
      "52  IV > HV (otimista)   208.0           456  \n",
      "54  IV > HV (otimista)    29.0           105  \n",
      "55  IV > HV (otimista)   108.0            78  \n",
      "57  IV > HV (otimista)   166.0           920  \n",
      "59  IV > HV (otimista)    29.0            38  \n",
      "61  IV > HV (otimista)    75.0            65  \n",
      "62  IV > HV (otimista)   421.0           653  \n",
      "63  IV > HV (otimista)   420.0          1638  \n",
      "64  IV > HV (otimista)   596.0          1059  \n",
      "65  IV > HV (otimista)   969.0           691  \n"
     ]
    },
    {
     "name": "stderr",
     "output_type": "stream",
     "text": [
      "C:\\Users\\igorj\\AppData\\Local\\Temp\\ipykernel_34848\\894554368.py:36: FutureWarning: Calling float on a single element Series is deprecated and will raise a TypeError in the future. Use float(ser.iloc[0]) instead\n",
      "  hist_vol = float(retornos[-30:].std() * np.sqrt(252))\n"
     ]
    }
   ],
   "source": [
    "import yfinance as yf\n",
    "import numpy as np\n",
    "import pandas as pd\n",
    "from scipy.stats import norm\n",
    "from datetime import datetime\n",
    "\n",
    "def black_scholes_call(S, K, T, r, sigma):\n",
    "    d1 = (np.log(S / K) + (r + 0.5 * sigma**2) * T) / (sigma * np.sqrt(T))\n",
    "    d2 = d1 - sigma * np.sqrt(T)\n",
    "    call_price = S * norm.cdf(d1) - K * np.exp(-r * T) * norm.cdf(d2)\n",
    "    delta = norm.cdf(d1)\n",
    "    return call_price, delta\n",
    "\n",
    "# 1. Setup e preço atual\n",
    "ticker = 'SPY'\n",
    "hoje = datetime.strptime('2025-07-07', '%Y-%m-%d')\n",
    "r = 0.05  # taxa livre de risco anual\n",
    "\n",
    "data = yf.download(ticker, period='60d', progress=False)['Close'].dropna()\n",
    "S = float(data.iloc[-1])\n",
    "\n",
    "# 2. Vencimento alvo ~30 dias\n",
    "tck = yf.Ticker(ticker)\n",
    "vencs = tck.options\n",
    "vencs_dt = [datetime.strptime(x, '%Y-%m-%d') for x in vencs]\n",
    "venc_alvo = min(vencs_dt, key=lambda d: abs((d - hoje).days - 30))\n",
    "venc_alvo_str = venc_alvo.strftime('%Y-%m-%d')\n",
    "T = (venc_alvo - hoje).days / 365\n",
    "\n",
    "# 3. Filtra calls próximas ±5% preço atual\n",
    "calls = tck.option_chain(venc_alvo_str).calls.dropna(subset=['strike', 'lastPrice', 'impliedVolatility'])\n",
    "calls = calls[(calls['strike'] >= 0.95 * S) & (calls['strike'] <= 1.05 * S)].copy()\n",
    "\n",
    "# 4. Volatilidade histórica (30d)\n",
    "retornos = np.log(data / data.shift(1)).dropna()\n",
    "hist_vol = float(retornos[-30:].std() * np.sqrt(252))\n",
    "\n",
    "# 5. Função para classificar e calcular preço justo + delta\n",
    "def classifica(row):\n",
    "    iv = float(row['impliedVolatility'])\n",
    "    preco_mercado = float(row['lastPrice'])\n",
    "    K = float(row['strike'])\n",
    "    \n",
    "    preco_justo, delta = black_scholes_call(S, K, T, r, iv)\n",
    "    \n",
    "    preco_status = (\"Cara\" if preco_mercado > preco_justo * 1.1\n",
    "                    else \"Barata\" if preco_mercado < preco_justo * 0.9\n",
    "                    else \"Justa\")\n",
    "    \n",
    "    vol_status = (\"IV > HV (otimista)\" if iv > hist_vol * 1.1\n",
    "                  else \"IV < HV (calma)\" if iv < hist_vol * 0.9\n",
    "                  else \"IV ≈ HV (neutra)\")\n",
    "    \n",
    "    return pd.Series([preco_justo, delta, preco_status, vol_status])\n",
    "\n",
    "# 6. Aplica função nas calls\n",
    "calls[['PrecoJusto', 'Delta', 'PrecoStatus', 'VolStatus']] = calls.apply(classifica, axis=1)\n",
    "\n",
    "# 7. Exibe opções caras e baratas (você pode filtrar por volume e openInterest depois)\n",
    "print(\"\\n=== Opções CARAS ===\")\n",
    "print(calls[calls['PrecoStatus'] == 'Cara'][['strike', 'lastPrice', 'PrecoJusto', 'Delta', 'impliedVolatility', 'VolStatus', 'volume', 'openInterest']])\n",
    "\n",
    "print(\"\\n=== Opções BARATAS ===\")\n",
    "print(calls[calls['PrecoStatus'] == 'Barata'][['strike', 'lastPrice', 'PrecoJusto', 'Delta', 'impliedVolatility', 'VolStatus', 'volume', 'openInterest']])\n"
   ]
  },
  {
   "cell_type": "code",
   "execution_count": null,
   "id": "fffa7ff2-faa7-47a1-b68f-6c6e57a25fa4",
   "metadata": {},
   "outputs": [],
   "source": []
  }
 ],
 "metadata": {
  "kernelspec": {
   "display_name": "Python 3 (ipykernel)",
   "language": "python",
   "name": "python3"
  },
  "language_info": {
   "codemirror_mode": {
    "name": "ipython",
    "version": 3
   },
   "file_extension": ".py",
   "mimetype": "text/x-python",
   "name": "python",
   "nbconvert_exporter": "python",
   "pygments_lexer": "ipython3",
   "version": "3.10.17"
  }
 },
 "nbformat": 4,
 "nbformat_minor": 5
}
